{
 "cells": [
  {
   "cell_type": "code",
   "execution_count": 3,
   "id": "educational-annotation",
   "metadata": {},
   "outputs": [],
   "source": [
    "import pymongo\n",
    "\n",
    "myclient = pymongo.MongoClient(\"mongodb://127.0.0.1:27017/\")\n",
    "\n",
    "mydb = myclient[\"smart_home_data\"]\n"
   ]
  },
  {
   "cell_type": "code",
   "execution_count": 4,
   "id": "fabulous-machine",
   "metadata": {
    "scrolled": true
   },
   "outputs": [
    {
     "ename": "ServerSelectionTimeoutError",
     "evalue": "127.0.0.1:27017: [Errno 111] Connection refused, Timeout: 30s, Topology Description: <TopologyDescription id: 605299915db1109cf954f834, topology_type: Single, servers: [<ServerDescription ('127.0.0.1', 27017) server_type: Unknown, rtt: None, error=AutoReconnect('127.0.0.1:27017: [Errno 111] Connection refused',)>]>",
     "output_type": "error",
     "traceback": [
      "\u001b[0;31m---------------------------------------------------------------------------\u001b[0m",
      "\u001b[0;31mServerSelectionTimeoutError\u001b[0m               Traceback (most recent call last)",
      "\u001b[0;32m<ipython-input-4-2a06babe5600>\u001b[0m in \u001b[0;36m<module>\u001b[0;34m\u001b[0m\n\u001b[0;32m----> 1\u001b[0;31m \u001b[0mprint\u001b[0m\u001b[0;34m(\u001b[0m\u001b[0mmyclient\u001b[0m\u001b[0;34m.\u001b[0m\u001b[0mlist_database_names\u001b[0m\u001b[0;34m(\u001b[0m\u001b[0;34m)\u001b[0m\u001b[0;34m)\u001b[0m\u001b[0;34m\u001b[0m\u001b[0;34m\u001b[0m\u001b[0m\n\u001b[0m",
      "\u001b[0;32m/usr/local/lib/python3.6/dist-packages/pymongo/mongo_client.py\u001b[0m in \u001b[0;36mlist_database_names\u001b[0;34m(self, session)\u001b[0m\n\u001b[1;32m   1916\u001b[0m         \"\"\"\n\u001b[1;32m   1917\u001b[0m         return [doc[\"name\"]\n\u001b[0;32m-> 1918\u001b[0;31m                 for doc in self.list_databases(session, nameOnly=True)]\n\u001b[0m\u001b[1;32m   1919\u001b[0m \u001b[0;34m\u001b[0m\u001b[0m\n\u001b[1;32m   1920\u001b[0m     \u001b[0;32mdef\u001b[0m \u001b[0mdatabase_names\u001b[0m\u001b[0;34m(\u001b[0m\u001b[0mself\u001b[0m\u001b[0;34m,\u001b[0m \u001b[0msession\u001b[0m\u001b[0;34m=\u001b[0m\u001b[0;32mNone\u001b[0m\u001b[0;34m)\u001b[0m\u001b[0;34m:\u001b[0m\u001b[0;34m\u001b[0m\u001b[0;34m\u001b[0m\u001b[0m\n",
      "\u001b[0;32m/usr/local/lib/python3.6/dist-packages/pymongo/mongo_client.py\u001b[0m in \u001b[0;36mlist_databases\u001b[0;34m(self, session, **kwargs)\u001b[0m\n\u001b[1;32m   1897\u001b[0m         \u001b[0mcmd\u001b[0m\u001b[0;34m.\u001b[0m\u001b[0mupdate\u001b[0m\u001b[0;34m(\u001b[0m\u001b[0mkwargs\u001b[0m\u001b[0;34m)\u001b[0m\u001b[0;34m\u001b[0m\u001b[0;34m\u001b[0m\u001b[0m\n\u001b[1;32m   1898\u001b[0m         \u001b[0madmin\u001b[0m \u001b[0;34m=\u001b[0m \u001b[0mself\u001b[0m\u001b[0;34m.\u001b[0m\u001b[0m_database_default_options\u001b[0m\u001b[0;34m(\u001b[0m\u001b[0;34m\"admin\"\u001b[0m\u001b[0;34m)\u001b[0m\u001b[0;34m\u001b[0m\u001b[0;34m\u001b[0m\u001b[0m\n\u001b[0;32m-> 1899\u001b[0;31m         \u001b[0mres\u001b[0m \u001b[0;34m=\u001b[0m \u001b[0madmin\u001b[0m\u001b[0;34m.\u001b[0m\u001b[0m_retryable_read_command\u001b[0m\u001b[0;34m(\u001b[0m\u001b[0mcmd\u001b[0m\u001b[0;34m,\u001b[0m \u001b[0msession\u001b[0m\u001b[0;34m=\u001b[0m\u001b[0msession\u001b[0m\u001b[0;34m)\u001b[0m\u001b[0;34m\u001b[0m\u001b[0;34m\u001b[0m\u001b[0m\n\u001b[0m\u001b[1;32m   1900\u001b[0m         \u001b[0;31m# listDatabases doesn't return a cursor (yet). Fake one.\u001b[0m\u001b[0;34m\u001b[0m\u001b[0;34m\u001b[0m\u001b[0;34m\u001b[0m\u001b[0m\n\u001b[1;32m   1901\u001b[0m         cursor = {\n",
      "\u001b[0;32m/usr/local/lib/python3.6/dist-packages/pymongo/database.py\u001b[0m in \u001b[0;36m_retryable_read_command\u001b[0;34m(self, command, value, check, allowable_errors, read_preference, codec_options, session, **kwargs)\u001b[0m\n\u001b[1;32m    754\u001b[0m \u001b[0;34m\u001b[0m\u001b[0m\n\u001b[1;32m    755\u001b[0m         return self.__client._retryable_read(\n\u001b[0;32m--> 756\u001b[0;31m             _cmd, read_preference, session)\n\u001b[0m\u001b[1;32m    757\u001b[0m \u001b[0;34m\u001b[0m\u001b[0m\n\u001b[1;32m    758\u001b[0m     def _list_collections(self, sock_info, slave_okay, session,\n",
      "\u001b[0;32m/usr/local/lib/python3.6/dist-packages/pymongo/mongo_client.py\u001b[0m in \u001b[0;36m_retryable_read\u001b[0;34m(self, func, read_pref, session, address, retryable, exhaust)\u001b[0m\n\u001b[1;32m   1459\u001b[0m             \u001b[0;32mtry\u001b[0m\u001b[0;34m:\u001b[0m\u001b[0;34m\u001b[0m\u001b[0;34m\u001b[0m\u001b[0m\n\u001b[1;32m   1460\u001b[0m                 server = self._select_server(\n\u001b[0;32m-> 1461\u001b[0;31m                     read_pref, session, address=address)\n\u001b[0m\u001b[1;32m   1462\u001b[0m                 \u001b[0;32mif\u001b[0m \u001b[0;32mnot\u001b[0m \u001b[0mserver\u001b[0m\u001b[0;34m.\u001b[0m\u001b[0mdescription\u001b[0m\u001b[0;34m.\u001b[0m\u001b[0mretryable_reads_supported\u001b[0m\u001b[0;34m:\u001b[0m\u001b[0;34m\u001b[0m\u001b[0;34m\u001b[0m\u001b[0m\n\u001b[1;32m   1463\u001b[0m                     \u001b[0mretryable\u001b[0m \u001b[0;34m=\u001b[0m \u001b[0;32mFalse\u001b[0m\u001b[0;34m\u001b[0m\u001b[0;34m\u001b[0m\u001b[0m\n",
      "\u001b[0;32m/usr/local/lib/python3.6/dist-packages/pymongo/mongo_client.py\u001b[0m in \u001b[0;36m_select_server\u001b[0;34m(self, server_selector, session, address)\u001b[0m\n\u001b[1;32m   1276\u001b[0m                                         % address)\n\u001b[1;32m   1277\u001b[0m             \u001b[0;32melse\u001b[0m\u001b[0;34m:\u001b[0m\u001b[0;34m\u001b[0m\u001b[0;34m\u001b[0m\u001b[0m\n\u001b[0;32m-> 1278\u001b[0;31m                 \u001b[0mserver\u001b[0m \u001b[0;34m=\u001b[0m \u001b[0mtopology\u001b[0m\u001b[0;34m.\u001b[0m\u001b[0mselect_server\u001b[0m\u001b[0;34m(\u001b[0m\u001b[0mserver_selector\u001b[0m\u001b[0;34m)\u001b[0m\u001b[0;34m\u001b[0m\u001b[0;34m\u001b[0m\u001b[0m\n\u001b[0m\u001b[1;32m   1279\u001b[0m                 \u001b[0;31m# Pin this session to the selected server if it's performing a\u001b[0m\u001b[0;34m\u001b[0m\u001b[0;34m\u001b[0m\u001b[0;34m\u001b[0m\u001b[0m\n\u001b[1;32m   1280\u001b[0m                 \u001b[0;31m# sharded transaction.\u001b[0m\u001b[0;34m\u001b[0m\u001b[0;34m\u001b[0m\u001b[0;34m\u001b[0m\u001b[0m\n",
      "\u001b[0;32m/usr/local/lib/python3.6/dist-packages/pymongo/topology.py\u001b[0m in \u001b[0;36mselect_server\u001b[0;34m(self, selector, server_selection_timeout, address)\u001b[0m\n\u001b[1;32m    241\u001b[0m         return random.choice(self.select_servers(selector,\n\u001b[1;32m    242\u001b[0m                                                  \u001b[0mserver_selection_timeout\u001b[0m\u001b[0;34m,\u001b[0m\u001b[0;34m\u001b[0m\u001b[0;34m\u001b[0m\u001b[0m\n\u001b[0;32m--> 243\u001b[0;31m                                                  address))\n\u001b[0m\u001b[1;32m    244\u001b[0m \u001b[0;34m\u001b[0m\u001b[0m\n\u001b[1;32m    245\u001b[0m     def select_server_by_address(self, address,\n",
      "\u001b[0;32m/usr/local/lib/python3.6/dist-packages/pymongo/topology.py\u001b[0m in \u001b[0;36mselect_servers\u001b[0;34m(self, selector, server_selection_timeout, address)\u001b[0m\n\u001b[1;32m    198\u001b[0m         \u001b[0;32mwith\u001b[0m \u001b[0mself\u001b[0m\u001b[0;34m.\u001b[0m\u001b[0m_lock\u001b[0m\u001b[0;34m:\u001b[0m\u001b[0;34m\u001b[0m\u001b[0;34m\u001b[0m\u001b[0m\n\u001b[1;32m    199\u001b[0m             server_descriptions = self._select_servers_loop(\n\u001b[0;32m--> 200\u001b[0;31m                 selector, server_timeout, address)\n\u001b[0m\u001b[1;32m    201\u001b[0m \u001b[0;34m\u001b[0m\u001b[0m\n\u001b[1;32m    202\u001b[0m             return [self.get_server_by_address(sd.address)\n",
      "\u001b[0;32m/usr/local/lib/python3.6/dist-packages/pymongo/topology.py\u001b[0m in \u001b[0;36m_select_servers_loop\u001b[0;34m(self, selector, timeout, address)\u001b[0m\n\u001b[1;32m    215\u001b[0m                 raise ServerSelectionTimeoutError(\n\u001b[1;32m    216\u001b[0m                     \u001b[0;34m\"%s, Timeout: %ss, Topology Description: %r\"\u001b[0m \u001b[0;34m%\u001b[0m\u001b[0;34m\u001b[0m\u001b[0;34m\u001b[0m\u001b[0m\n\u001b[0;32m--> 217\u001b[0;31m                     (self._error_message(selector), timeout, self.description))\n\u001b[0m\u001b[1;32m    218\u001b[0m \u001b[0;34m\u001b[0m\u001b[0m\n\u001b[1;32m    219\u001b[0m             \u001b[0mself\u001b[0m\u001b[0;34m.\u001b[0m\u001b[0m_ensure_opened\u001b[0m\u001b[0;34m(\u001b[0m\u001b[0;34m)\u001b[0m\u001b[0;34m\u001b[0m\u001b[0;34m\u001b[0m\u001b[0m\n",
      "\u001b[0;31mServerSelectionTimeoutError\u001b[0m: 127.0.0.1:27017: [Errno 111] Connection refused, Timeout: 30s, Topology Description: <TopologyDescription id: 605299915db1109cf954f834, topology_type: Single, servers: [<ServerDescription ('127.0.0.1', 27017) server_type: Unknown, rtt: None, error=AutoReconnect('127.0.0.1:27017: [Errno 111] Connection refused',)>]>"
     ]
    }
   ],
   "source": [
    "print(myclient.list_database_names())"
   ]
  },
  {
   "cell_type": "code",
   "execution_count": null,
   "id": "rational-opportunity",
   "metadata": {},
   "outputs": [],
   "source": [
    "dblist = myclient.list_database_names()\n",
    "if \"smart_home_schedule\" in dblist:\n",
    "  print(\"The database exists.\")"
   ]
  },
  {
   "cell_type": "code",
   "execution_count": 4,
   "id": "arranged-lender",
   "metadata": {},
   "outputs": [],
   "source": [
    "temp_log={\n",
    "    \"duration\":[[\"17:10\",\"18:00\"]],\n",
    "    \"temperatura\": 30.0,\n",
    "    \"day\":\"Saturday\"\n",
    "    }\n",
    "temp_log2={\n",
    "    \"defalut_temp\":24.0,\n",
    "    \"day\":\"Saturday\"\n",
    "}\n",
    "\n",
    "schedule={\n",
    "    \"day\":\"Saturday\",\n",
    "    \"trigger\":\"defalut\",\n",
    "    \"defalut_temp\":24.0,\n",
    "    \"periods\":[\n",
    "    {\n",
    "        \"start\":\"17:00\",\n",
    "        \"end\":\"18:00\",\n",
    "        \"temp\":30\n",
    "    },\n",
    "    {\n",
    "        \"start\":\"19:00\",\n",
    "        \"end\":\"20:00\",\n",
    "        \"temp\":32\n",
    "    }\n",
    "    ]\n",
    "    \n",
    "}"
   ]
  },
  {
   "cell_type": "code",
   "execution_count": null,
   "id": "sealed-match",
   "metadata": {},
   "outputs": [],
   "source": [
    "myCol=mydb[\"RFID\"]\n",
    "#x=myCol.insert_one(schedule)"
   ]
  },
  {
   "cell_type": "code",
   "execution_count": null,
   "id": "visible-absence",
   "metadata": {},
   "outputs": [],
   "source": [
    "myquery = { \"$and\":[{\"day\":{\"$eq\":\"Saturday\"}},{\"periods\":{'$exists': 1}}] }\n",
    "newvalues = { \"$set\": { \"periods\": {\n",
    "        \"start\":\"10:00\",\n",
    "        \"end\":\"11:00\",\n",
    "        \"temp\":29.0\n",
    "    } } }\n",
    "\n",
    "myCol.update_one(myquery, newvalues)"
   ]
  },
  {
   "cell_type": "code",
   "execution_count": 179,
   "id": "covered-enclosure",
   "metadata": {},
   "outputs": [],
   "source": [
    "result=list(myCol.find().sort(\"_id\",-1).limit(10))"
   ]
  },
  {
   "cell_type": "code",
   "execution_count": 180,
   "id": "interested-factory",
   "metadata": {},
   "outputs": [
    {
     "name": "stdout",
     "output_type": "stream",
     "text": [
      "{'_id': ObjectId('604a85355230901b9f9f8866'), 'time': '11/03/2021 21:01:41', 'RFID': '2B2EE489'}\n",
      "{'_id': ObjectId('604a85355230901b9f9f8865'), 'time': '11/03/2021 21:01:41', 'RFID': '00000000'}\n",
      "{'_id': ObjectId('604a850c5230901b9f9f8864'), 'time': '11/03/2021 21:01:00', 'RFID': '404CC049'}\n",
      "{'_id': ObjectId('604a850b5230901b9f9f8863'), 'time': '11/03/2021 21:00:59', 'RFID': '2B2EE489'}\n",
      "{'_id': ObjectId('604a85085230901b9f9f8862'), 'time': '11/03/2021 21:00:56', 'RFID': '404CC049'}\n",
      "{'_id': ObjectId('604a85045230901b9f9f8861'), 'time': '11/03/2021 21:00:52', 'RFID': '404CC049'}\n",
      "{'_id': ObjectId('604a85015230901b9f9f8860'), 'time': '11/03/2021 21:00:49', 'RFID': '2B2EE489'}\n",
      "{'_id': ObjectId('604a84f25230901b9f9f885f'), 'time': '11/03/2021 21:00:34', 'RFID': '00000000'}\n",
      "{'_id': ObjectId('604a84dd5230901b9f9f885e'), 'time': '11/03/2021 21:00:13', 'RFID': '0000000000'}\n",
      "{'_id': ObjectId('604a83625230901b9f9f885d'), 'time': '11/03/2021 20:53:54', 'RFID': 'FE3F6D86'}\n"
     ]
    }
   ],
   "source": [
    "for element in result:\n",
    "    print(element)\n",
    "    #rows=list(myCol.find().sort(\"time\",-1))\n",
    "#rows[0][list(rows[0].keys())[2]]"
   ]
  },
  {
   "cell_type": "code",
   "execution_count": 763,
   "id": "further-anthony",
   "metadata": {},
   "outputs": [],
   "source": [
    "myq={\"time\":\"10/02/2021 13:52:10\"}"
   ]
  },
  {
   "cell_type": "code",
   "execution_count": 787,
   "id": "educational-scene",
   "metadata": {},
   "outputs": [],
   "source": [
    "Mydoc=myCol.find(myq)"
   ]
  },
  {
   "cell_type": "code",
   "execution_count": 43,
   "id": "curious-affair",
   "metadata": {},
   "outputs": [
    {
     "name": "stdout",
     "output_type": "stream",
     "text": [
      "{'_id': ObjectId('6027dc51d66a4a55ff4690ae'), 'time': '10/02/2021 13:52:10', 'temp': '25.60'}\n",
      "{'_id': ObjectId('6027dd18d66a4a55ff4690af'), 'time': '10/02/2021 13:52:10', 'temp': '25.50'}\n"
     ]
    }
   ],
   "source": [
    "for element in Mydoc:\n",
    "    print(element)"
   ]
  },
  {
   "cell_type": "code",
   "execution_count": 94,
   "id": "vulnerable-going",
   "metadata": {},
   "outputs": [],
   "source": [
    "myq2={\"tempterature_out\":\"10.0\"}"
   ]
  },
  {
   "cell_type": "code",
   "execution_count": 95,
   "id": "exciting-director",
   "metadata": {},
   "outputs": [],
   "source": [
    "Mydoc=myCol.find(myq2)"
   ]
  },
  {
   "cell_type": "code",
   "execution_count": 96,
   "id": "individual-siemens",
   "metadata": {},
   "outputs": [],
   "source": [
    "for element in Mydoc:\n",
    "    print(element)"
   ]
  },
  {
   "cell_type": "code",
   "execution_count": 104,
   "id": "approximate-baseline",
   "metadata": {},
   "outputs": [
    {
     "ename": "TypeError",
     "evalue": "filter must be an instance of dict, bson.son.SON, or any other type that inherits from collections.Mapping",
     "output_type": "error",
     "traceback": [
      "\u001b[0;31m---------------------------------------------------------------------------\u001b[0m",
      "\u001b[0;31mTypeError\u001b[0m                                 Traceback (most recent call last)",
      "\u001b[0;32m<ipython-input-104-8cbe8a68d26d>\u001b[0m in \u001b[0;36m<module>\u001b[0;34m\u001b[0m\n\u001b[1;32m      1\u001b[0m x=myCol.find(\n\u001b[0;32m----> 2\u001b[0;31m     \u001b[0;34m\"defalut_temp\"\u001b[0m\u001b[0;34m\u001b[0m\u001b[0;34m\u001b[0m\u001b[0m\n\u001b[0m\u001b[1;32m      3\u001b[0m )\n",
      "\u001b[0;32m/usr/local/lib/python3.6/dist-packages/pymongo/collection.py\u001b[0m in \u001b[0;36mfind\u001b[0;34m(self, *args, **kwargs)\u001b[0m\n\u001b[1;32m   1521\u001b[0m \u001b[0;34m\u001b[0m\u001b[0m\n\u001b[1;32m   1522\u001b[0m         \"\"\"\n\u001b[0;32m-> 1523\u001b[0;31m         \u001b[0;32mreturn\u001b[0m \u001b[0mCursor\u001b[0m\u001b[0;34m(\u001b[0m\u001b[0mself\u001b[0m\u001b[0;34m,\u001b[0m \u001b[0;34m*\u001b[0m\u001b[0margs\u001b[0m\u001b[0;34m,\u001b[0m \u001b[0;34m**\u001b[0m\u001b[0mkwargs\u001b[0m\u001b[0;34m)\u001b[0m\u001b[0;34m\u001b[0m\u001b[0;34m\u001b[0m\u001b[0m\n\u001b[0m\u001b[1;32m   1524\u001b[0m \u001b[0;34m\u001b[0m\u001b[0m\n\u001b[1;32m   1525\u001b[0m     \u001b[0;32mdef\u001b[0m \u001b[0mfind_raw_batches\u001b[0m\u001b[0;34m(\u001b[0m\u001b[0mself\u001b[0m\u001b[0;34m,\u001b[0m \u001b[0;34m*\u001b[0m\u001b[0margs\u001b[0m\u001b[0;34m,\u001b[0m \u001b[0;34m**\u001b[0m\u001b[0mkwargs\u001b[0m\u001b[0;34m)\u001b[0m\u001b[0;34m:\u001b[0m\u001b[0;34m\u001b[0m\u001b[0;34m\u001b[0m\u001b[0m\n",
      "\u001b[0;32m/usr/local/lib/python3.6/dist-packages/pymongo/cursor.py\u001b[0m in \u001b[0;36m__init__\u001b[0;34m(self, collection, filter, projection, skip, limit, no_cursor_timeout, cursor_type, sort, allow_partial_results, oplog_replay, modifiers, batch_size, manipulate, collation, hint, max_scan, max_time_ms, max, min, return_key, show_record_id, snapshot, comment, session, allow_disk_use)\u001b[0m\n\u001b[1;32m    142\u001b[0m             \u001b[0mspec\u001b[0m \u001b[0;34m=\u001b[0m \u001b[0;34m{\u001b[0m\u001b[0;34m}\u001b[0m\u001b[0;34m\u001b[0m\u001b[0;34m\u001b[0m\u001b[0m\n\u001b[1;32m    143\u001b[0m \u001b[0;34m\u001b[0m\u001b[0m\n\u001b[0;32m--> 144\u001b[0;31m         \u001b[0mvalidate_is_mapping\u001b[0m\u001b[0;34m(\u001b[0m\u001b[0;34m\"filter\"\u001b[0m\u001b[0;34m,\u001b[0m \u001b[0mspec\u001b[0m\u001b[0;34m)\u001b[0m\u001b[0;34m\u001b[0m\u001b[0;34m\u001b[0m\u001b[0m\n\u001b[0m\u001b[1;32m    145\u001b[0m         \u001b[0;32mif\u001b[0m \u001b[0;32mnot\u001b[0m \u001b[0misinstance\u001b[0m\u001b[0;34m(\u001b[0m\u001b[0mskip\u001b[0m\u001b[0;34m,\u001b[0m \u001b[0mint\u001b[0m\u001b[0;34m)\u001b[0m\u001b[0;34m:\u001b[0m\u001b[0;34m\u001b[0m\u001b[0;34m\u001b[0m\u001b[0m\n\u001b[1;32m    146\u001b[0m             \u001b[0;32mraise\u001b[0m \u001b[0mTypeError\u001b[0m\u001b[0;34m(\u001b[0m\u001b[0;34m\"skip must be an instance of int\"\u001b[0m\u001b[0;34m)\u001b[0m\u001b[0;34m\u001b[0m\u001b[0;34m\u001b[0m\u001b[0m\n",
      "\u001b[0;32m/usr/local/lib/python3.6/dist-packages/pymongo/common.py\u001b[0m in \u001b[0;36mvalidate_is_mapping\u001b[0;34m(option, value)\u001b[0m\n\u001b[1;32m    494\u001b[0m         raise TypeError(\"%s must be an instance of dict, bson.son.SON, or \"\n\u001b[1;32m    495\u001b[0m                         \u001b[0;34m\"any other type that inherits from \"\u001b[0m\u001b[0;34m\u001b[0m\u001b[0;34m\u001b[0m\u001b[0m\n\u001b[0;32m--> 496\u001b[0;31m                         \"collections.Mapping\" % (option,))\n\u001b[0m\u001b[1;32m    497\u001b[0m \u001b[0;34m\u001b[0m\u001b[0m\n\u001b[1;32m    498\u001b[0m \u001b[0;34m\u001b[0m\u001b[0m\n",
      "\u001b[0;31mTypeError\u001b[0m: filter must be an instance of dict, bson.son.SON, or any other type that inherits from collections.Mapping"
     ]
    }
   ],
   "source": [
    "x=myCol.find({\n",
    "    \"wilg\":{\"$eq\":25.5}\n",
    "})"
   ]
  },
  {
   "cell_type": "code",
   "execution_count": 87,
   "id": "spoken-highway",
   "metadata": {},
   "outputs": [],
   "source": [
    "result=x.limit(5)"
   ]
  },
  {
   "cell_type": "code",
   "execution_count": 88,
   "id": "honest-serial",
   "metadata": {},
   "outputs": [],
   "source": [
    "for element in x:\n",
    "    print(element)"
   ]
  },
  {
   "cell_type": "code",
   "execution_count": 135,
   "id": "frozen-phrase",
   "metadata": {},
   "outputs": [],
   "source": [
    "x=mydb[\"wind_dir\"]\n",
    "for record in x.find():\n",
    "    print(record)"
   ]
  },
  {
   "cell_type": "code",
   "execution_count": 113,
   "id": "regulated-paraguay",
   "metadata": {},
   "outputs": [],
   "source": [
    "dblist = myclient.list_database_names()"
   ]
  },
  {
   "cell_type": "code",
   "execution_count": 146,
   "id": "deadly-moisture",
   "metadata": {},
   "outputs": [
    {
     "name": "stdout",
     "output_type": "stream",
     "text": [
      "wind_d\n"
     ]
    }
   ],
   "source": [
    "d={ 'time': '20/02/2021 14:54:05', 'wind_d': 43.4}\n",
    "print(list(d.keys())[1])\n"
   ]
  },
  {
   "cell_type": "code",
   "execution_count": 400,
   "id": "drawn-pattern",
   "metadata": {},
   "outputs": [
    {
     "data": {
      "text/plain": [
       "True"
      ]
     },
     "execution_count": 400,
     "metadata": {},
     "output_type": "execute_result"
    }
   ],
   "source": [
    "import math\n",
    "a=float('nan')\n",
    "math.isnan(a)"
   ]
  },
  {
   "cell_type": "code",
   "execution_count": 46,
   "id": "little-daniel",
   "metadata": {},
   "outputs": [
    {
     "name": "stdout",
     "output_type": "stream",
     "text": [
      "timestamp:  -2208927120.0\n"
     ]
    }
   ],
   "source": [
    "import time \n",
    "import datetime \n",
    "string=\"17:08\"\n",
    "string2=\"18:08\"\n",
    "element = datetime.datetime.strptime(string,\"%H:%M\")\n",
    "timestamp = datetime.datetime.timestamp(element) \n",
    "element2 = datetime.datetime.strptime(string2,\"%H:%M\")\n",
    "timestamp2 = datetime.datetime.timestamp(element2) \n",
    "if(timestamp2<timestamp):\n",
    "    print(\"timestamp2: \",timestamp2)\n",
    "else:\n",
    "    print(\"timestamp: \",timestamp)\n"
   ]
  },
  {
   "cell_type": "code",
   "execution_count": 57,
   "id": "floating-decrease",
   "metadata": {},
   "outputs": [
    {
     "name": "stdout",
     "output_type": "stream",
     "text": [
      "-2208923580.0\n"
     ]
    }
   ],
   "source": [
    "import time \n",
    "from datetime import datetime\n",
    "now = datetime.now() # current date and time\n",
    "\n",
    "Day = now.strftime(\"%d\")\n",
    "minute_current = now.strftime(\"%M\")\n",
    "hour_current=now.strftime(\"%H\")\n",
    "minute=minute_current\n",
    "hour=hour_current\n",
    "day=Day\n",
    "\n",
    "string_now=str(hour)+\":\"+str(minute)\n",
    "\n",
    "element = datetime.strptime(string_now,\"%H:%M\")\n",
    "timestamp = datetime.timestamp(element)  \n",
    "print(timestamp)"
   ]
  },
  {
   "cell_type": "code",
   "execution_count": 102,
   "id": "arranged-addiction",
   "metadata": {},
   "outputs": [
    {
     "name": "stdout",
     "output_type": "stream",
     "text": [
      "schedule [{'_id': ObjectId('604263239bd7672c5d5dc81d'), 'day': 'Saturday', 'trigger': 'defalut', 'defalut_temp': 22.0, 'periods': [{'start': '10:40', 'end': '10:50', 'temp': 23.0}, {'start': '11:30', 'end': '11:35', 'temp': 21.0}]}]\n",
      "[{'start': '10:40', 'end': '10:50', 'temp': 23.0}, {'start': '11:30', 'end': '11:35', 'temp': 21.0}]\n",
      "periods {'start': '10:40', 'end': '10:50', 'temp': 23.0}\n",
      "final_temp {'start': '11:30', 'end': '11:35', 'temp': 21.0}\n"
     ]
    },
    {
     "ename": "TypeError",
     "evalue": "string indices must be integers",
     "output_type": "error",
     "traceback": [
      "\u001b[0;31m---------------------------------------------------------------------------\u001b[0m",
      "\u001b[0;31mTypeError\u001b[0m                                 Traceback (most recent call last)",
      "\u001b[0;32m<ipython-input-102-a9affcb70f80>\u001b[0m in \u001b[0;36m<module>\u001b[0;34m\u001b[0m\n\u001b[1;32m     76\u001b[0m \u001b[0;34m\u001b[0m\u001b[0m\n\u001b[1;32m     77\u001b[0m \u001b[0;34m\u001b[0m\u001b[0m\n\u001b[0;32m---> 78\u001b[0;31m \u001b[0mschedule_temp\u001b[0m\u001b[0;34m(\u001b[0m\u001b[0mmongo\u001b[0m\u001b[0;34m,\u001b[0m\u001b[0;34m\"schedule_test\"\u001b[0m\u001b[0;34m,\u001b[0m\u001b[0mday\u001b[0m\u001b[0;34m=\u001b[0m\u001b[0;34m\"Saturday\"\u001b[0m\u001b[0;34m)\u001b[0m\u001b[0;34m\u001b[0m\u001b[0;34m\u001b[0m\u001b[0m\n\u001b[0m",
      "\u001b[0;32m<ipython-input-102-a9affcb70f80>\u001b[0m in \u001b[0;36mschedule_temp\u001b[0;34m(mongo, collection, day, hour, minute)\u001b[0m\n\u001b[1;32m     62\u001b[0m         \u001b[0;32mfor\u001b[0m \u001b[0mperiod\u001b[0m \u001b[0;32min\u001b[0m \u001b[0mperiods\u001b[0m\u001b[0;34m:\u001b[0m\u001b[0;34m\u001b[0m\u001b[0;34m\u001b[0m\u001b[0m\n\u001b[1;32m     63\u001b[0m \u001b[0;34m\u001b[0m\u001b[0m\n\u001b[0;32m---> 64\u001b[0;31m             \u001b[0mstring_start\u001b[0m\u001b[0;34m=\u001b[0m\u001b[0mperiod\u001b[0m\u001b[0;34m[\u001b[0m\u001b[0;34m\"start\"\u001b[0m\u001b[0;34m]\u001b[0m\u001b[0;34m\u001b[0m\u001b[0;34m\u001b[0m\u001b[0m\n\u001b[0m\u001b[1;32m     65\u001b[0m             \u001b[0melement2\u001b[0m \u001b[0;34m=\u001b[0m \u001b[0mdatetime\u001b[0m\u001b[0;34m.\u001b[0m\u001b[0mdatetime\u001b[0m\u001b[0;34m.\u001b[0m\u001b[0mstrptime\u001b[0m\u001b[0;34m(\u001b[0m\u001b[0mstring_start\u001b[0m\u001b[0;34m,\u001b[0m\u001b[0;34m\"%H:%M\"\u001b[0m\u001b[0;34m)\u001b[0m\u001b[0;34m\u001b[0m\u001b[0;34m\u001b[0m\u001b[0m\n\u001b[1;32m     66\u001b[0m             \u001b[0mtimestamp_start\u001b[0m \u001b[0;34m=\u001b[0m \u001b[0mdatetime\u001b[0m\u001b[0;34m.\u001b[0m\u001b[0mdatetime\u001b[0m\u001b[0;34m.\u001b[0m\u001b[0mtimestamp\u001b[0m\u001b[0;34m(\u001b[0m\u001b[0melement2\u001b[0m\u001b[0;34m)\u001b[0m\u001b[0;34m\u001b[0m\u001b[0;34m\u001b[0m\u001b[0m\n",
      "\u001b[0;31mTypeError\u001b[0m: string indices must be integers"
     ]
    }
   ],
   "source": [
    "import sys\n",
    "sys.path.append('./')\n",
    "\n",
    "\n",
    "import pymongo\n",
    "from datetime import datetime\n",
    "from src.MQTT_sub2 import Mongo_log\n",
    "mongo=Mongo_log(\"mongodb://127.0.0.1:27017/\", \"smart_home_schedule_test\")\n",
    "\n",
    "\n",
    "def getPeriods(mongo,collection,day,defalut_temp=False):\n",
    "    \"\"\"\n",
    "    Metoda pobierająca przedziały czasowe harmonogramów w danym dniu\n",
    "        \n",
    "        Args:\n",
    "            mongo      - połaczenie z bazą danych\n",
    "            collection - kolekcja (powinna być schedule)\n",
    "            day        - dzień w którym obowiązuje harmonogram\n",
    "    \n",
    "    \"\"\"\n",
    "    myCol=mongo.my_db[collection]\n",
    "    myquery = { \"$and\":[{\"day\":{\"$eq\":day}},{\"periods\":{'$exists': 1}}] }\n",
    "    schedule=list(myCol.find(myquery))\n",
    "    print(\"schedule\",schedule)\n",
    "    \n",
    "    if defalut_temp:\n",
    "        temp=schedule[0][\"defalut_temp\"]\n",
    "        print(temp)\n",
    "        return False,temp\n",
    "    else:\n",
    "        periods=schedule[0][\"periods\"]\n",
    "        print(list(periods))\n",
    "        return list(periods)\n",
    "\n",
    "\n",
    "def schedule_temp(mongo, collection, day=None, hour=None, minute=None):\n",
    "    now = datetime.now() # current date and time\n",
    "    if day==None:\n",
    "        Day = now.strftime(\"%d\")\n",
    "        day=Day\n",
    "    if hour==None:    \n",
    "\n",
    "        hour_current=now.strftime(\"%H\")\n",
    "        hour=hour_current\n",
    "\n",
    "    if minute==None:    \n",
    "        minute_current = now.strftime(\"%M\")\n",
    "        minute=minute_current\n",
    "    \n",
    "    string_now=str(hour)+\":\"+str(minute)\n",
    "    \n",
    "    element = datetime.strptime(string_now,\"%H:%M\")\n",
    "    timestamp = datetime.timestamp(element)  \n",
    "    myCol=mongo.my_db[collection]\n",
    "    myquery = { \"$and\":[{\"day\":{\"$eq\":day}},{\"periods\":{'$exists': 1}}] }\n",
    "    periods, final_temp=getPeriods(mongo,collection,day,defalut_temp=False)\n",
    "    print(\"periods\",periods)\n",
    "    print(\"final_temp\",final_temp)\n",
    "    if periods==False:\n",
    "        return final_temp\n",
    "    else:\n",
    "        for period in periods:\n",
    "\n",
    "            string_start=period[\"start\"]\n",
    "            element2 = datetime.datetime.strptime(string_start,\"%H:%M\")\n",
    "            timestamp_start = datetime.datetime.timestamp(element2)\n",
    "\n",
    "            string_end=period[\"end\"]\n",
    "            element3 = datetime.datetime.strptime(string_end,\"%H:%M\")\n",
    "            timestamp_end = datetime.datetime.timestamp(element3)\n",
    "\n",
    "            if timestamp_start<timestamp and timestamp_end>timestamp:\n",
    "                final_temp=period[\"temp\"]\n",
    "                return final_temp\n",
    "    return final_temp\n",
    "\n",
    "\n",
    "schedule_temp(mongo,\"schedule_test\",day=\"Saturday\") "
   ]
  },
  {
   "cell_type": "code",
   "execution_count": 86,
   "id": "impressed-yield",
   "metadata": {},
   "outputs": [],
   "source": [
    "day=None\n",
    "hour=None\n",
    "minute=None"
   ]
  },
  {
   "cell_type": "code",
   "execution_count": 87,
   "id": "different-layout",
   "metadata": {},
   "outputs": [],
   "source": [
    "now = datetime.now() # current date and time\n",
    "if day==None:\n",
    "    Day = now.strftime(\"%d\")\n",
    "    day=Day\n",
    "if hour==None:    \n",
    "\n",
    "    hour_current=now.strftime(\"%H\")\n",
    "    hour=hour_current\n",
    "\n",
    "if minute==None:    \n",
    "    minute_current = now.strftime(\"%M\")\n",
    "    minute=minute_current"
   ]
  },
  {
   "cell_type": "code",
   "execution_count": 88,
   "id": "invisible-substance",
   "metadata": {},
   "outputs": [],
   "source": [
    "string_now=str(hour)+\":\"+str(minute)"
   ]
  },
  {
   "cell_type": "code",
   "execution_count": 89,
   "id": "accredited-python",
   "metadata": {},
   "outputs": [
    {
     "name": "stdout",
     "output_type": "stream",
     "text": [
      "16:15\n"
     ]
    }
   ],
   "source": [
    "print(string_now)"
   ]
  },
  {
   "cell_type": "code",
   "execution_count": 101,
   "id": "checked-profile",
   "metadata": {},
   "outputs": [
    {
     "name": "stdout",
     "output_type": "stream",
     "text": [
      "schedule [{'_id': ObjectId('604263239bd7672c5d5dc81d'), 'day': 'Saturday', 'trigger': 'defalut', 'defalut_temp': 22.0, 'periods': [{'start': '10:40', 'end': '10:50', 'temp': 23.0}, {'start': '11:30', 'end': '11:35', 'temp': 21.0}]}]\n",
      "[{'start': '10:40', 'end': '10:50', 'temp': 23.0}, {'start': '11:30', 'end': '11:35', 'temp': 21.0}]\n"
     ]
    }
   ],
   "source": [
    "element = datetime.strptime(string_now,\"%H:%M\")\n",
    "timestamp = datetime.timestamp(element)  \n",
    "myCol=mongo.my_db[\"schedule_test\"]\n",
    "myquery = { \"$and\":[{\"day\":{\"$eq\":day}},{\"periods\":{'$exists': 1}}] }\n",
    "periods, final_temp=getPeriods(mongo,\"schedule_test\",\"Saturday\",defalut_temp=False)"
   ]
  },
  {
   "cell_type": "code",
   "execution_count": 73,
   "id": "european-neighborhood",
   "metadata": {},
   "outputs": [
    {
     "data": {
      "text/plain": [
       "21"
      ]
     },
     "execution_count": 73,
     "metadata": {},
     "output_type": "execute_result"
    }
   ],
   "source": [
    "myCol=mongo.my_db[\"schedule_test\"]\n",
    "myquery = { \"$and\":[{\"day\":{\"$eq\":\"Friday\"}},{\"periods\":{'$exists': 1}}] }\n",
    "schedule=list(myCol.find(myquery))\n",
    "schedule[0][\"defalut_temp\"]"
   ]
  },
  {
   "cell_type": "code",
   "execution_count": 93,
   "id": "refined-africa",
   "metadata": {},
   "outputs": [
    {
     "name": "stdout",
     "output_type": "stream",
     "text": [
      "schedule [{'_id': ObjectId('604ba140aaacf2caa1f3e3d8'), 'day': 'Friday', 'trigger': 'defalut', 'defalut_temp': 21, 'periods': []}]\n",
      "21\n"
     ]
    }
   ],
   "source": [
    "periods, final_temp=getPeriods(mongo,\"schedule_test\",\"Friday\",defalut_temp=True)\n"
   ]
  },
  {
   "cell_type": "code",
   "execution_count": 100,
   "id": "chubby-mambo",
   "metadata": {},
   "outputs": [
    {
     "name": "stdout",
     "output_type": "stream",
     "text": [
      "schedule [{'_id': ObjectId('604263239bd7672c5d5dc81d'), 'day': 'Saturday', 'trigger': 'defalut', 'defalut_temp': 22.0, 'periods': [{'start': '10:40', 'end': '10:50', 'temp': 23.0}, {'start': '11:30', 'end': '11:35', 'temp': 21.0}]}]\n",
      "22.0\n",
      "periods False\n",
      "final_temp 22.0\n"
     ]
    },
    {
     "data": {
      "text/plain": [
       "22.0"
      ]
     },
     "execution_count": 100,
     "metadata": {},
     "output_type": "execute_result"
    }
   ],
   "source": [
    "schedule_temp(mongo,\"schedule_test\",day=\"Saturday\",hour=\"11\",minute=\"35\")"
   ]
  },
  {
   "cell_type": "code",
   "execution_count": 103,
   "id": "verbal-entertainment",
   "metadata": {},
   "outputs": [
    {
     "name": "stdout",
     "output_type": "stream",
     "text": [
      "schedule [{'_id': ObjectId('604263239bd7672c5d5dc81d'), 'day': 'Saturday', 'trigger': 'defalut', 'defalut_temp': 22.0, 'periods': [{'start': '10:40', 'end': '10:50', 'temp': 23.0}, {'start': '11:30', 'end': '11:35', 'temp': 21.0}]}]\n",
      "[{'start': '10:40', 'end': '10:50', 'temp': 23.0}, {'start': '11:30', 'end': '11:35', 'temp': 21.0}]\n"
     ]
    },
    {
     "data": {
      "text/plain": [
       "[{'start': '10:40', 'end': '10:50', 'temp': 23.0},\n",
       " {'start': '11:30', 'end': '11:35', 'temp': 21.0}]"
      ]
     },
     "execution_count": 103,
     "metadata": {},
     "output_type": "execute_result"
    }
   ],
   "source": [
    "getPeriods(mongo,\"schedule_test\",\"Saturday\",defalut_temp=False)"
   ]
  },
  {
   "cell_type": "code",
   "execution_count": 122,
   "id": "loaded-background",
   "metadata": {},
   "outputs": [
    {
     "name": "stdout",
     "output_type": "stream",
     "text": [
      "http://34.123.208.229:8080/dawmpd0-k/update/V67?value=1\n",
      "<class 'str'>\n"
     ]
    }
   ],
   "source": [
    "pin = 67\n",
    "value = 1\n",
    "token =\"dawmpd0-k\"\n",
    "request=\"http://34.123.208.229:8080/\"+str(token)+\"/update/V\"+str(pin)+\"?value=\"+str(value)\n",
    "print(request)\n",
    "print(type(request))"
   ]
  },
  {
   "cell_type": "code",
   "execution_count": 163,
   "id": "timely-spain",
   "metadata": {},
   "outputs": [
    {
     "name": "stdout",
     "output_type": "stream",
     "text": [
      "{'_id': ObjectId('605016f522c09e888a3fb13d'), 'time': datetime.datetime(2021, 3, 15, 16, 15, 22, 880000), 'sila_wiatru': 3.5}\n"
     ]
    }
   ],
   "source": [
    "from src.MQTT_sub2 import Mongo_log\n",
    "from src.termostat_con import temp_get\n",
    "mongo=Mongo_log(\"mongodb://127.0.0.1:27017/\", \"smart_home_data\")\n",
    "myCol=mongo.my_db[\"wind_str\"]\n",
    "result=list(myCol.find().sort(\"_id\",-1).limit(10))\n",
    "for element in result:\n",
    "    print(element)\n",
    "hum_log={\n",
    "                \"time\": now,\n",
    "                \"sila_wiatru\": 3.5\n",
    "                }\n",
    "x=myCol.insert_one(hum_log)"
   ]
  },
  {
   "cell_type": "code",
   "execution_count": 171,
   "id": "increased-operations",
   "metadata": {},
   "outputs": [
    {
     "name": "stdout",
     "output_type": "stream",
     "text": [
      "dict_keys(['_id', 'time', 'sila_wiatru']) 3.5\n",
      "dict_keys(['_id', 'time', 'sila_wiatru']) 3.5\n"
     ]
    },
    {
     "data": {
      "text/plain": [
       "3.5"
      ]
     },
     "execution_count": 171,
     "metadata": {},
     "output_type": "execute_result"
    }
   ],
   "source": [
    "temp_get(\"wiatr_sila\")"
   ]
  },
  {
   "cell_type": "code",
   "execution_count": 145,
   "id": "caring-bangkok",
   "metadata": {},
   "outputs": [],
   "source": [
    "myCol.drop()"
   ]
  },
  {
   "cell_type": "code",
   "execution_count": 209,
   "id": "according-spirit",
   "metadata": {},
   "outputs": [
    {
     "name": "stdout",
     "output_type": "stream",
     "text": [
      "FE3F6D86\n",
      "2B2EE489\n",
      "2B2EE489\n",
      "2B2EE489\n"
     ]
    }
   ],
   "source": [
    "import math\n",
    "import numpy as np\n",
    "coll_name=\"RFID\"\n",
    "mongodb=Mongo_log(\"mongodb://127.0.0.1:27017/\", \"smart_home_data\")\n",
    "myCol=mongodb.my_db[\"RFID\"]\n",
    "rows=list(myCol.find().sort(\"_id\",-1))\n",
    "temps=[]\n",
    "\n",
    "if coll_name==\"RFID\":\n",
    "        for row in rows:\n",
    "            record=row[list(row.keys())[2]]\n",
    "            print(record)\n",
    "        \n",
    "            \n",
    "else:\n",
    "    for row in rows:\n",
    "        try:\n",
    "            record=float(row[list(row.keys())[2]])\n",
    "            #print(row.keys(),record)\n",
    "            if not math.isnan(record):\n",
    "                temps.append(record)\n",
    "        except ValueError:\n",
    "            pass      \n",
    "    \"\"\"\n",
    "    obsługa wyjątków\n",
    "    \"\"\"\n",
    "    if math.isnan(np.mean(temps)):\n",
    "        raise ValueError(\"wszystkie wartosci nan\")\n",
    "\n"
   ]
  },
  {
   "cell_type": "code",
   "execution_count": 199,
   "id": "minimal-aluminum",
   "metadata": {},
   "outputs": [],
   "source": [
    "#2B2EE489\n",
    "#404CC049\n",
    "#FE3F6D86\n",
    "#00000000\n",
    "myCol.drop()\n"
   ]
  },
  {
   "cell_type": "code",
   "execution_count": null,
   "id": "backed-drinking",
   "metadata": {},
   "outputs": [],
   "source": []
  }
 ],
 "metadata": {
  "kernelspec": {
   "display_name": "Python 3",
   "language": "python",
   "name": "python3"
  },
  "language_info": {
   "codemirror_mode": {
    "name": "ipython",
    "version": 3
   },
   "file_extension": ".py",
   "mimetype": "text/x-python",
   "name": "python",
   "nbconvert_exporter": "python",
   "pygments_lexer": "ipython3",
   "version": "3.6.9"
  }
 },
 "nbformat": 4,
 "nbformat_minor": 5
}
